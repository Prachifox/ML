{
 "cells": [
  {
   "cell_type": "code",
   "execution_count": 2,
   "metadata": {},
   "outputs": [
    {
     "data": {
      "text/plain": [
       "'C:\\\\Users\\\\pande\\\\ML Projects'"
      ]
     },
     "execution_count": 2,
     "metadata": {},
     "output_type": "execute_result"
    }
   ],
   "source": [
    "pwd"
   ]
  },
  {
   "cell_type": "code",
   "execution_count": 3,
   "metadata": {},
   "outputs": [
    {
     "name": "stdout",
     "output_type": "stream",
     "text": [
      "E:\\ml_projects\n"
     ]
    }
   ],
   "source": [
    "cd E:\\ml_projects"
   ]
  },
  {
   "cell_type": "code",
   "execution_count": 4,
   "metadata": {},
   "outputs": [],
   "source": [
    "import os\n",
    "import io\n",
    "import numpy as np\n",
    "% matplotlib inline\n",
    "import matplotlib.pyplot as plt\n",
    "import pandas as pd\n",
    "from pandas import DataFrame\n",
    "from sklearn.feature_extraction.text import CountVectorizer\n",
    "from sklearn.naive_bayes import MultinomialNB"
   ]
  },
  {
   "cell_type": "code",
   "execution_count": 5,
   "metadata": {},
   "outputs": [],
   "source": [
    "data = DataFrame({'Email': [], 'Category': []})"
   ]
  },
  {
   "cell_type": "code",
   "execution_count": 6,
   "metadata": {},
   "outputs": [
    {
     "data": {
      "text/html": [
       "<div>\n",
       "<style scoped>\n",
       "    .dataframe tbody tr th:only-of-type {\n",
       "        vertical-align: middle;\n",
       "    }\n",
       "\n",
       "    .dataframe tbody tr th {\n",
       "        vertical-align: top;\n",
       "    }\n",
       "\n",
       "    .dataframe thead th {\n",
       "        text-align: right;\n",
       "    }\n",
       "</style>\n",
       "<table border=\"1\" class=\"dataframe\">\n",
       "  <thead>\n",
       "    <tr style=\"text-align: right;\">\n",
       "      <th></th>\n",
       "      <th>Email</th>\n",
       "      <th>Category</th>\n",
       "    </tr>\n",
       "  </thead>\n",
       "  <tbody>\n",
       "  </tbody>\n",
       "</table>\n",
       "</div>"
      ],
      "text/plain": [
       "Empty DataFrame\n",
       "Columns: [Email, Category]\n",
       "Index: []"
      ]
     },
     "execution_count": 6,
     "metadata": {},
     "output_type": "execute_result"
    }
   ],
   "source": [
    "data"
   ]
  },
  {
   "cell_type": "code",
   "execution_count": 7,
   "metadata": {},
   "outputs": [],
   "source": [
    "def readFiles(path):\n",
    "    \n",
    "    for root, dirnames, filenames in os.walk(path):   #os.walk() generates filenames in all directories within given path \n",
    "                                                      #root is the path we provide to the function\n",
    "                                                      #dirnames is empty list since there are no directories within the path\n",
    "                                                      #filenames is the names of files within the directories\n",
    "     \n",
    "        for filename in filenames:\n",
    "            \n",
    "            path = os.path.join(root, filename)\n",
    "            \n",
    "            content = []\n",
    "            \n",
    "            inBody=False\n",
    "            \n",
    "            f = io.open(path, 'r',encoding='latin1')\n",
    "            \n",
    "            for line in f:\n",
    "                \n",
    "                if inBody:\n",
    "                    content.append(line)\n",
    "                    \n",
    "                elif line=='\\n':                  #the email content start after the first empty line\n",
    "                    inBody=True\n",
    "            \n",
    "            f.close()\n",
    "            \n",
    "            msg='\\n'.join(content)    #content changes from list to string\n",
    "            \n",
    "            yield msg\n",
    "            \n"
   ]
  },
  {
   "cell_type": "code",
   "execution_count": 8,
   "metadata": {},
   "outputs": [],
   "source": [
    "def readDataFromDataframe(path,category):\n",
    "    rows=[]\n",
    "    for content in readFiles(path):\n",
    "        rows.append({'Email':content,'Category':category})\n",
    "    return DataFrame(rows)"
   ]
  },
  {
   "cell_type": "code",
   "execution_count": 9,
   "metadata": {},
   "outputs": [],
   "source": [
    "data=data.append(readDataFromDataframe('E:\\ml_projects\\spam_classifier\\spam','Spam'),sort=True)"
   ]
  },
  {
   "cell_type": "code",
   "execution_count": 10,
   "metadata": {},
   "outputs": [
    {
     "data": {
      "text/html": [
       "<div>\n",
       "<style scoped>\n",
       "    .dataframe tbody tr th:only-of-type {\n",
       "        vertical-align: middle;\n",
       "    }\n",
       "\n",
       "    .dataframe tbody tr th {\n",
       "        vertical-align: top;\n",
       "    }\n",
       "\n",
       "    .dataframe thead th {\n",
       "        text-align: right;\n",
       "    }\n",
       "</style>\n",
       "<table border=\"1\" class=\"dataframe\">\n",
       "  <thead>\n",
       "    <tr style=\"text-align: right;\">\n",
       "      <th></th>\n",
       "      <th>Category</th>\n",
       "      <th>Email</th>\n",
       "    </tr>\n",
       "  </thead>\n",
       "  <tbody>\n",
       "    <tr>\n",
       "      <th>0</th>\n",
       "      <td>Spam</td>\n",
       "      <td>&lt;!DOCTYPE HTML PUBLIC \"-//W3C//DTD HTML 4.0 Tr...</td>\n",
       "    </tr>\n",
       "    <tr>\n",
       "      <th>1</th>\n",
       "      <td>Spam</td>\n",
       "      <td>1) Fight The Risk of Cancer!\\n\\nhttp://www.adc...</td>\n",
       "    </tr>\n",
       "    <tr>\n",
       "      <th>2</th>\n",
       "      <td>Spam</td>\n",
       "      <td>##############################################...</td>\n",
       "    </tr>\n",
       "    <tr>\n",
       "      <th>3</th>\n",
       "      <td>Spam</td>\n",
       "      <td>I thought you might like these:\\n\\n1) Slim Dow...</td>\n",
       "    </tr>\n",
       "    <tr>\n",
       "      <th>4</th>\n",
       "      <td>Spam</td>\n",
       "      <td>A POWERHOUSE GIFTING PROGRAM You Don't Want To...</td>\n",
       "    </tr>\n",
       "  </tbody>\n",
       "</table>\n",
       "</div>"
      ],
      "text/plain": [
       "  Category                                              Email\n",
       "0     Spam  <!DOCTYPE HTML PUBLIC \"-//W3C//DTD HTML 4.0 Tr...\n",
       "1     Spam  1) Fight The Risk of Cancer!\\n\\nhttp://www.adc...\n",
       "2     Spam  ##############################################...\n",
       "3     Spam  I thought you might like these:\\n\\n1) Slim Dow...\n",
       "4     Spam  A POWERHOUSE GIFTING PROGRAM You Don't Want To..."
      ]
     },
     "execution_count": 10,
     "metadata": {},
     "output_type": "execute_result"
    }
   ],
   "source": [
    "data.head()"
   ]
  },
  {
   "cell_type": "code",
   "execution_count": 11,
   "metadata": {},
   "outputs": [],
   "source": [
    "data=data.append(readDataFromDataframe('E:\\ml_projects\\spam_classifier\\ham','Ham'),sort=True)"
   ]
  },
  {
   "cell_type": "code",
   "execution_count": 12,
   "metadata": {},
   "outputs": [
    {
     "data": {
      "text/html": [
       "<div>\n",
       "<style scoped>\n",
       "    .dataframe tbody tr th:only-of-type {\n",
       "        vertical-align: middle;\n",
       "    }\n",
       "\n",
       "    .dataframe tbody tr th {\n",
       "        vertical-align: top;\n",
       "    }\n",
       "\n",
       "    .dataframe thead th {\n",
       "        text-align: right;\n",
       "    }\n",
       "</style>\n",
       "<table border=\"1\" class=\"dataframe\">\n",
       "  <thead>\n",
       "    <tr style=\"text-align: right;\">\n",
       "      <th></th>\n",
       "      <th>Category</th>\n",
       "      <th>Email</th>\n",
       "    </tr>\n",
       "  </thead>\n",
       "  <tbody>\n",
       "    <tr>\n",
       "      <th>0</th>\n",
       "      <td>Spam</td>\n",
       "      <td>&lt;!DOCTYPE HTML PUBLIC \"-//W3C//DTD HTML 4.0 Tr...</td>\n",
       "    </tr>\n",
       "    <tr>\n",
       "      <th>1</th>\n",
       "      <td>Spam</td>\n",
       "      <td>1) Fight The Risk of Cancer!\\n\\nhttp://www.adc...</td>\n",
       "    </tr>\n",
       "    <tr>\n",
       "      <th>2</th>\n",
       "      <td>Spam</td>\n",
       "      <td>##############################################...</td>\n",
       "    </tr>\n",
       "    <tr>\n",
       "      <th>3</th>\n",
       "      <td>Spam</td>\n",
       "      <td>I thought you might like these:\\n\\n1) Slim Dow...</td>\n",
       "    </tr>\n",
       "    <tr>\n",
       "      <th>4</th>\n",
       "      <td>Spam</td>\n",
       "      <td>A POWERHOUSE GIFTING PROGRAM You Don't Want To...</td>\n",
       "    </tr>\n",
       "  </tbody>\n",
       "</table>\n",
       "</div>"
      ],
      "text/plain": [
       "  Category                                              Email\n",
       "0     Spam  <!DOCTYPE HTML PUBLIC \"-//W3C//DTD HTML 4.0 Tr...\n",
       "1     Spam  1) Fight The Risk of Cancer!\\n\\nhttp://www.adc...\n",
       "2     Spam  ##############################################...\n",
       "3     Spam  I thought you might like these:\\n\\n1) Slim Dow...\n",
       "4     Spam  A POWERHOUSE GIFTING PROGRAM You Don't Want To..."
      ]
     },
     "execution_count": 12,
     "metadata": {},
     "output_type": "execute_result"
    }
   ],
   "source": [
    "data.head()"
   ]
  },
  {
   "cell_type": "code",
   "execution_count": 13,
   "metadata": {},
   "outputs": [
    {
     "data": {
      "text/plain": [
       "MultinomialNB(alpha=1.0, class_prior=None, fit_prior=True)"
      ]
     },
     "execution_count": 13,
     "metadata": {},
     "output_type": "execute_result"
    }
   ],
   "source": [
    "vec = CountVectorizer()\n",
    "counts = vec.fit_transform(data['Email'].values)   #tokenises mail and counts the frequency of words in each email\n",
    "\n",
    "classifier = MultinomialNB()\n",
    "targets = data['Category'].values\n",
    "classifier.fit(counts, targets)"
   ]
  },
  {
   "cell_type": "code",
   "execution_count": 14,
   "metadata": {},
   "outputs": [],
   "source": [
    "test_data=['hurry up sale.. limited offer','important meeting tomorrow']"
   ]
  },
  {
   "cell_type": "code",
   "execution_count": 15,
   "metadata": {},
   "outputs": [],
   "source": [
    "test_count=vec.transform(test_data)"
   ]
  },
  {
   "cell_type": "code",
   "execution_count": 16,
   "metadata": {},
   "outputs": [
    {
     "data": {
      "text/plain": [
       "array(['Spam', 'Ham'], dtype='<U4')"
      ]
     },
     "execution_count": 16,
     "metadata": {},
     "output_type": "execute_result"
    }
   ],
   "source": [
    "pre=classifier.predict(test_count)\n",
    "pre"
   ]
  },
  {
   "cell_type": "code",
   "execution_count": 17,
   "metadata": {
    "collapsed": true
   },
   "outputs": [
    {
     "data": {
      "text/plain": [
       "array(['Ham', 'Ham', 'Ham', 'Ham', 'Ham', 'Ham', 'Ham', 'Ham', 'Ham',\n",
       "       'Ham', 'Ham', 'Ham', 'Spam', 'Ham', 'Ham', 'Ham', 'Ham', 'Ham',\n",
       "       'Spam', 'Ham', 'Ham', 'Ham', 'Ham', 'Ham', 'Ham', 'Spam', 'Ham',\n",
       "       'Spam', 'Ham', 'Spam', 'Ham', 'Ham', 'Ham', 'Ham', 'Ham', 'Ham',\n",
       "       'Spam', 'Ham', 'Ham', 'Ham', 'Ham', 'Ham', 'Ham', 'Spam', 'Ham',\n",
       "       'Spam', 'Ham', 'Ham', 'Ham', 'Ham', 'Ham', 'Ham', 'Ham', 'Ham',\n",
       "       'Ham', 'Ham', 'Ham', 'Ham', 'Ham', 'Ham', 'Ham', 'Ham', 'Ham',\n",
       "       'Ham', 'Ham', 'Ham', 'Ham', 'Spam', 'Ham', 'Ham', 'Ham', 'Ham',\n",
       "       'Ham', 'Ham', 'Ham', 'Ham', 'Spam', 'Ham', 'Ham', 'Ham', 'Ham',\n",
       "       'Spam', 'Ham', 'Ham', 'Ham', 'Ham', 'Ham', 'Ham', 'Ham', 'Ham',\n",
       "       'Ham', 'Ham', 'Ham', 'Ham', 'Ham', 'Spam', 'Ham', 'Ham', 'Ham',\n",
       "       'Spam', 'Ham', 'Ham', 'Ham', 'Ham', 'Spam', 'Ham', 'Ham', 'Ham',\n",
       "       'Ham', 'Ham', 'Ham', 'Ham', 'Ham', 'Ham', 'Ham', 'Ham', 'Ham',\n",
       "       'Ham', 'Ham', 'Ham', 'Ham', 'Spam', 'Ham', 'Ham', 'Ham', 'Ham',\n",
       "       'Ham', 'Ham', 'Ham', 'Ham', 'Ham', 'Ham', 'Ham', 'Ham', 'Ham',\n",
       "       'Spam', 'Ham', 'Ham', 'Ham', 'Ham', 'Ham', 'Ham', 'Ham', 'Ham',\n",
       "       'Ham', 'Ham', 'Ham', 'Ham', 'Ham', 'Ham', 'Ham', 'Ham', 'Ham',\n",
       "       'Ham', 'Ham', 'Ham', 'Ham', 'Spam', 'Ham', 'Ham', 'Ham', 'Ham',\n",
       "       'Spam', 'Ham', 'Ham', 'Ham', 'Ham', 'Spam', 'Ham', 'Ham', 'Spam',\n",
       "       'Ham', 'Ham', 'Ham', 'Ham', 'Ham', 'Ham', 'Ham', 'Ham', 'Ham',\n",
       "       'Spam', 'Ham', 'Ham', 'Ham', 'Ham', 'Spam', 'Ham', 'Ham', 'Ham',\n",
       "       'Spam', 'Ham', 'Ham', 'Ham', 'Ham', 'Ham', 'Ham', 'Ham', 'Ham',\n",
       "       'Ham', 'Ham', 'Ham', 'Ham', 'Ham', 'Ham', 'Ham', 'Ham', 'Ham',\n",
       "       'Spam', 'Ham', 'Ham', 'Ham', 'Ham', 'Ham', 'Ham', 'Ham', 'Ham',\n",
       "       'Spam', 'Ham', 'Ham', 'Ham', 'Ham', 'Ham', 'Ham', 'Ham', 'Ham',\n",
       "       'Ham', 'Ham', 'Ham', 'Ham', 'Ham', 'Ham', 'Ham', 'Ham', 'Ham',\n",
       "       'Ham', 'Ham', 'Ham', 'Ham', 'Ham', 'Ham', 'Ham', 'Ham', 'Ham',\n",
       "       'Spam', 'Spam', 'Ham', 'Ham', 'Ham', 'Ham', 'Ham', 'Ham', 'Ham',\n",
       "       'Ham', 'Ham', 'Ham', 'Ham', 'Ham', 'Ham', 'Ham', 'Ham', 'Ham',\n",
       "       'Ham', 'Spam', 'Ham', 'Spam', 'Ham', 'Spam', 'Ham', 'Ham', 'Ham',\n",
       "       'Ham', 'Ham', 'Ham', 'Ham', 'Ham', 'Ham', 'Ham', 'Ham', 'Ham',\n",
       "       'Ham', 'Ham', 'Ham', 'Ham', 'Ham', 'Ham', 'Ham', 'Ham', 'Ham',\n",
       "       'Ham', 'Ham', 'Ham', 'Ham', 'Ham', 'Ham', 'Ham', 'Spam', 'Ham',\n",
       "       'Spam', 'Ham', 'Ham', 'Ham', 'Spam', 'Ham', 'Ham', 'Ham', 'Ham',\n",
       "       'Ham', 'Ham', 'Ham', 'Spam', 'Ham', 'Ham', 'Ham', 'Ham', 'Ham',\n",
       "       'Spam', 'Ham', 'Ham', 'Spam', 'Ham', 'Ham', 'Ham', 'Ham', 'Ham',\n",
       "       'Ham', 'Ham', 'Ham', 'Ham', 'Ham', 'Spam', 'Ham', 'Ham', 'Ham',\n",
       "       'Ham', 'Ham', 'Ham', 'Ham', 'Ham', 'Spam', 'Ham', 'Ham', 'Spam',\n",
       "       'Ham', 'Ham', 'Ham', 'Spam', 'Ham', 'Spam', 'Ham', 'Ham', 'Spam',\n",
       "       'Ham', 'Spam', 'Ham', 'Ham', 'Ham', 'Ham', 'Ham', 'Spam', 'Spam',\n",
       "       'Ham', 'Ham', 'Ham', 'Spam', 'Ham', 'Ham', 'Spam', 'Ham', 'Spam',\n",
       "       'Ham', 'Spam', 'Ham', 'Ham', 'Ham', 'Ham', 'Ham', 'Ham', 'Ham',\n",
       "       'Ham', 'Ham', 'Ham', 'Ham', 'Ham', 'Ham', 'Ham', 'Ham', 'Ham',\n",
       "       'Ham', 'Ham', 'Ham', 'Ham', 'Spam', 'Ham', 'Spam', 'Ham', 'Ham',\n",
       "       'Ham', 'Spam', 'Ham', 'Ham', 'Ham', 'Ham', 'Ham', 'Ham', 'Ham',\n",
       "       'Ham', 'Ham', 'Ham', 'Spam', 'Ham', 'Ham', 'Ham', 'Ham', 'Ham',\n",
       "       'Ham', 'Ham', 'Ham', 'Ham', 'Ham', 'Ham', 'Ham', 'Ham', 'Ham',\n",
       "       'Ham', 'Spam', 'Ham', 'Ham', 'Ham', 'Ham', 'Spam', 'Ham', 'Ham',\n",
       "       'Ham', 'Ham', 'Ham', 'Ham', 'Ham', 'Ham', 'Ham', 'Spam', 'Ham',\n",
       "       'Ham', 'Ham', 'Spam', 'Spam', 'Ham', 'Ham', 'Spam', 'Ham', 'Ham',\n",
       "       'Ham', 'Ham', 'Ham', 'Ham', 'Ham', 'Ham', 'Ham', 'Ham', 'Ham',\n",
       "       'Spam', 'Ham', 'Ham', 'Ham', 'Ham', 'Ham', 'Ham', 'Spam', 'Ham',\n",
       "       'Ham', 'Ham', 'Ham', 'Spam', 'Spam', 'Spam', 'Ham', 'Ham', 'Ham',\n",
       "       'Ham', 'Spam', 'Ham', 'Ham', 'Ham', 'Ham', 'Ham', 'Ham', 'Ham',\n",
       "       'Ham', 'Ham', 'Ham', 'Ham', 'Ham', 'Ham', 'Ham', 'Ham', 'Ham',\n",
       "       'Spam', 'Ham', 'Ham', 'Ham', 'Ham', 'Ham', 'Ham', 'Ham', 'Ham',\n",
       "       'Spam', 'Ham', 'Ham', 'Ham', 'Ham', 'Ham', 'Ham', 'Spam', 'Ham',\n",
       "       'Ham', 'Spam', 'Ham', 'Ham', 'Ham', 'Ham', 'Spam', 'Ham', 'Ham',\n",
       "       'Ham', 'Ham', 'Ham', 'Ham', 'Spam', 'Ham', 'Spam', 'Ham', 'Ham',\n",
       "       'Ham', 'Ham', 'Spam', 'Ham', 'Ham', 'Ham', 'Ham', 'Ham', 'Ham',\n",
       "       'Ham', 'Ham', 'Ham', 'Spam', 'Ham', 'Ham', 'Ham', 'Ham', 'Ham',\n",
       "       'Ham', 'Ham', 'Ham', 'Ham', 'Ham', 'Spam', 'Ham', 'Spam', 'Ham',\n",
       "       'Ham', 'Spam', 'Ham', 'Spam', 'Ham', 'Ham', 'Ham', 'Ham', 'Ham',\n",
       "       'Ham', 'Ham', 'Ham', 'Ham', 'Ham', 'Ham', 'Spam', 'Spam', 'Ham',\n",
       "       'Ham', 'Ham', 'Ham', 'Ham', 'Spam', 'Ham', 'Ham', 'Ham', 'Ham',\n",
       "       'Ham', 'Ham', 'Ham', 'Ham', 'Ham', 'Spam', 'Spam', 'Ham', 'Ham',\n",
       "       'Ham', 'Ham', 'Ham', 'Ham', 'Spam', 'Ham', 'Ham', 'Ham', 'Ham',\n",
       "       'Spam', 'Ham', 'Spam', 'Ham', 'Ham', 'Ham', 'Ham', 'Ham', 'Ham',\n",
       "       'Ham', 'Spam', 'Ham', 'Ham', 'Ham', 'Ham', 'Ham', 'Ham', 'Ham',\n",
       "       'Ham', 'Spam', 'Ham', 'Ham', 'Ham', 'Ham', 'Ham', 'Ham', 'Ham',\n",
       "       'Ham', 'Ham', 'Ham', 'Ham', 'Spam', 'Ham', 'Ham', 'Spam', 'Spam',\n",
       "       'Ham', 'Ham', 'Spam', 'Ham', 'Ham', 'Ham', 'Ham', 'Ham', 'Ham',\n",
       "       'Ham', 'Ham', 'Ham', 'Ham', 'Ham', 'Ham', 'Ham', 'Ham', 'Ham',\n",
       "       'Ham', 'Ham', 'Ham', 'Ham', 'Ham', 'Ham', 'Spam', 'Ham', 'Ham',\n",
       "       'Ham', 'Ham', 'Ham', 'Ham', 'Ham', 'Ham', 'Ham', 'Ham', 'Ham',\n",
       "       'Ham', 'Ham', 'Spam', 'Ham', 'Spam', 'Spam', 'Ham', 'Ham', 'Ham',\n",
       "       'Ham', 'Ham', 'Ham', 'Spam', 'Spam', 'Ham', 'Ham', 'Ham', 'Ham',\n",
       "       'Ham', 'Ham', 'Ham', 'Ham', 'Ham', 'Ham', 'Ham', 'Ham', 'Ham',\n",
       "       'Ham', 'Ham', 'Ham', 'Ham', 'Ham', 'Ham', 'Ham', 'Ham', 'Ham',\n",
       "       'Ham', 'Ham', 'Ham', 'Ham', 'Spam', 'Spam', 'Ham', 'Ham', 'Ham',\n",
       "       'Ham', 'Ham', 'Ham', 'Ham', 'Ham', 'Ham', 'Spam', 'Ham', 'Spam',\n",
       "       'Ham', 'Ham', 'Ham', 'Spam', 'Ham', 'Ham', 'Ham', 'Ham', 'Spam',\n",
       "       'Ham', 'Ham', 'Ham', 'Ham', 'Ham', 'Ham', 'Spam', 'Ham', 'Ham',\n",
       "       'Ham', 'Ham', 'Ham'], dtype='<U4')"
      ]
     },
     "execution_count": 17,
     "metadata": {},
     "output_type": "execute_result"
    }
   ],
   "source": [
    "# Splitting the dataset into the Training set and Test set\n",
    "from sklearn.model_selection import train_test_split\n",
    "X_train, X_test, y_train, y_test = train_test_split(data['Email'], data['Category'], test_size = 0.25,random_state=0)\n",
    "examp = vec.transform(X_test)\n",
    "y_pred = classifier.predict(examp)\n",
    "y_pred"
   ]
  },
  {
   "cell_type": "code",
   "execution_count": 18,
   "metadata": {},
   "outputs": [
    {
     "data": {
      "text/plain": [
       "array([[626,   0],\n",
       "       [ 19, 105]], dtype=int64)"
      ]
     },
     "execution_count": 18,
     "metadata": {},
     "output_type": "execute_result"
    }
   ],
   "source": [
    "from sklearn.metrics import confusion_matrix                    # total emails= 3000\n",
    "cm = confusion_matrix(y_test,y_pred)\n",
    "cm"
   ]
  },
  {
   "cell_type": "code",
   "execution_count": 19,
   "metadata": {},
   "outputs": [
    {
     "data": {
      "text/html": [
       "<div>\n",
       "<style scoped>\n",
       "    .dataframe tbody tr th:only-of-type {\n",
       "        vertical-align: middle;\n",
       "    }\n",
       "\n",
       "    .dataframe tbody tr th {\n",
       "        vertical-align: top;\n",
       "    }\n",
       "\n",
       "    .dataframe thead th {\n",
       "        text-align: right;\n",
       "    }\n",
       "</style>\n",
       "<table border=\"1\" class=\"dataframe\">\n",
       "  <thead>\n",
       "    <tr style=\"text-align: right;\">\n",
       "      <th></th>\n",
       "      <th>Category</th>\n",
       "      <th>Email</th>\n",
       "    </tr>\n",
       "  </thead>\n",
       "  <tbody>\n",
       "    <tr>\n",
       "      <th>0</th>\n",
       "      <td>1</td>\n",
       "      <td>&lt;!DOCTYPE HTML PUBLIC \"-//W3C//DTD HTML 4.0 Tr...</td>\n",
       "    </tr>\n",
       "    <tr>\n",
       "      <th>1</th>\n",
       "      <td>1</td>\n",
       "      <td>1) Fight The Risk of Cancer!\\n\\nhttp://www.adc...</td>\n",
       "    </tr>\n",
       "    <tr>\n",
       "      <th>2</th>\n",
       "      <td>1</td>\n",
       "      <td>##############################################...</td>\n",
       "    </tr>\n",
       "    <tr>\n",
       "      <th>3</th>\n",
       "      <td>1</td>\n",
       "      <td>I thought you might like these:\\n\\n1) Slim Dow...</td>\n",
       "    </tr>\n",
       "    <tr>\n",
       "      <th>4</th>\n",
       "      <td>1</td>\n",
       "      <td>A POWERHOUSE GIFTING PROGRAM You Don't Want To...</td>\n",
       "    </tr>\n",
       "    <tr>\n",
       "      <th>5</th>\n",
       "      <td>1</td>\n",
       "      <td>Help wanted.  We are a 14 year old fortune 500...</td>\n",
       "    </tr>\n",
       "    <tr>\n",
       "      <th>6</th>\n",
       "      <td>1</td>\n",
       "      <td>&lt;html&gt;\\n\\n&lt;head&gt;\\n\\n&lt;title&gt;ReliaQuote - Save U...</td>\n",
       "    </tr>\n",
       "    <tr>\n",
       "      <th>7</th>\n",
       "      <td>1</td>\n",
       "      <td>TIRED OF THE BULL OUT THERE?\\n\\nWant To Stop L...</td>\n",
       "    </tr>\n",
       "    <tr>\n",
       "      <th>8</th>\n",
       "      <td>1</td>\n",
       "      <td>Dear ricardo1 ,\\n\\n\\n\\n&lt;html&gt;\\n\\n&lt;body&gt;\\n\\n&lt;ce...</td>\n",
       "    </tr>\n",
       "    <tr>\n",
       "      <th>9</th>\n",
       "      <td>1</td>\n",
       "      <td>Cellular Phone Accessories All At Below Wholes...</td>\n",
       "    </tr>\n",
       "    <tr>\n",
       "      <th>10</th>\n",
       "      <td>1</td>\n",
       "      <td>&lt;table width=\"600\" border=\"20\" align=\"center\" ...</td>\n",
       "    </tr>\n",
       "    <tr>\n",
       "      <th>11</th>\n",
       "      <td>1</td>\n",
       "      <td>1) Fight The Risk of Cancer!\\n\\nhttp://www.adc...</td>\n",
       "    </tr>\n",
       "    <tr>\n",
       "      <th>12</th>\n",
       "      <td>1</td>\n",
       "      <td>&lt;HTML&gt;&lt;HEAD&gt;&lt;TITLE&gt;FREE Motorola Cell Phone wi...</td>\n",
       "    </tr>\n",
       "    <tr>\n",
       "      <th>13</th>\n",
       "      <td>1</td>\n",
       "      <td>&lt;HTML&gt;&lt;HEAD&gt;&lt;TITLE&gt;Lowest Rate Services&lt;/TITLE...</td>\n",
       "    </tr>\n",
       "    <tr>\n",
       "      <th>14</th>\n",
       "      <td>1</td>\n",
       "      <td>\\n\\n\\n\\nWant to watch Sporting Events?--Movies...</td>\n",
       "    </tr>\n",
       "    <tr>\n",
       "      <th>15</th>\n",
       "      <td>1</td>\n",
       "      <td>Help wanted.  We are a 14 year old fortune 500...</td>\n",
       "    </tr>\n",
       "    <tr>\n",
       "      <th>16</th>\n",
       "      <td>1</td>\n",
       "      <td>DEAR FRIEND,I AM MRS.  SESE-SEKO WIDOW OF LATE...</td>\n",
       "    </tr>\n",
       "    <tr>\n",
       "      <th>17</th>\n",
       "      <td>1</td>\n",
       "      <td>Lowest rates available for term life insurance...</td>\n",
       "    </tr>\n",
       "    <tr>\n",
       "      <th>18</th>\n",
       "      <td>1</td>\n",
       "      <td>1) Fight The Risk of Cancer!\\n\\nhttp://www.adc...</td>\n",
       "    </tr>\n",
       "    <tr>\n",
       "      <th>19</th>\n",
       "      <td>1</td>\n",
       "      <td>CENTRAL BANK OF NIGERIA\\n\\nFOREIGN REMITTANCE ...</td>\n",
       "    </tr>\n",
       "    <tr>\n",
       "      <th>20</th>\n",
       "      <td>1</td>\n",
       "      <td>--===_SecAtt_000_1fheucnqggtggp\\n\\nContent-Typ...</td>\n",
       "    </tr>\n",
       "    <tr>\n",
       "      <th>21</th>\n",
       "      <td>1</td>\n",
       "      <td>------=_NextPart_000_00B2_83B03D1E.C6530E24\\n\\...</td>\n",
       "    </tr>\n",
       "    <tr>\n",
       "      <th>22</th>\n",
       "      <td>1</td>\n",
       "      <td>This is a multi-part message in MIME format.\\n...</td>\n",
       "    </tr>\n",
       "    <tr>\n",
       "      <th>23</th>\n",
       "      <td>1</td>\n",
       "      <td>&lt;HTML&gt;&lt;HEAD&gt;\\n\\n&lt;META http-equiv=3DContent-Typ...</td>\n",
       "    </tr>\n",
       "    <tr>\n",
       "      <th>24</th>\n",
       "      <td>1</td>\n",
       "      <td>DEAR FRIEND,I AM MRS.  SESE-SEKO WIDOW OF LATE...</td>\n",
       "    </tr>\n",
       "    <tr>\n",
       "      <th>25</th>\n",
       "      <td>1</td>\n",
       "      <td>1) Fight The Risk of Cancer!\\n\\nhttp://www.adc...</td>\n",
       "    </tr>\n",
       "    <tr>\n",
       "      <th>26</th>\n",
       "      <td>1</td>\n",
       "      <td>&lt;HTML&gt;&lt;HEAD&gt;&lt;TITLE&gt;MILFhunter&lt;/TITLE&gt;\\n\\n&lt;META...</td>\n",
       "    </tr>\n",
       "    <tr>\n",
       "      <th>27</th>\n",
       "      <td>1</td>\n",
       "      <td>&lt;html&gt;\\n\\n&lt;head&gt;\\n\\n&lt;/head&gt;\\n\\n&lt;body&gt;\\n\\n\\n\\n&lt;...</td>\n",
       "    </tr>\n",
       "    <tr>\n",
       "      <th>28</th>\n",
       "      <td>1</td>\n",
       "      <td>&lt;html&gt;\\n\\n\\n\\n&lt;head&gt;\\n\\n&lt;meta http-equiv=3D\"Co...</td>\n",
       "    </tr>\n",
       "    <tr>\n",
       "      <th>29</th>\n",
       "      <td>1</td>\n",
       "      <td>Suppliers of Computers, Printers, etc. &amp; Consu...</td>\n",
       "    </tr>\n",
       "    <tr>\n",
       "      <th>...</th>\n",
       "      <td>...</td>\n",
       "      <td>...</td>\n",
       "    </tr>\n",
       "    <tr>\n",
       "      <th>2470</th>\n",
       "      <td>0</td>\n",
       "      <td>This is possible, however using SA as a block ...</td>\n",
       "    </tr>\n",
       "    <tr>\n",
       "      <th>2471</th>\n",
       "      <td>0</td>\n",
       "      <td>\\n\\n--- Martin Adamson &lt;martin@srv0.ems.ed.ac....</td>\n",
       "    </tr>\n",
       "    <tr>\n",
       "      <th>2472</th>\n",
       "      <td>0</td>\n",
       "      <td>----- Original Message -----\\n\\nFrom: \"Tim Cha...</td>\n",
       "    </tr>\n",
       "    <tr>\n",
       "      <th>2473</th>\n",
       "      <td>0</td>\n",
       "      <td>\\n\\n&gt; Mr Tim Chapman, freelance gentleman of l...</td>\n",
       "    </tr>\n",
       "    <tr>\n",
       "      <th>2474</th>\n",
       "      <td>0</td>\n",
       "      <td>Smith, Graham - Computing Technician wrote:\\n\\...</td>\n",
       "    </tr>\n",
       "    <tr>\n",
       "      <th>2475</th>\n",
       "      <td>0</td>\n",
       "      <td>Geege wrote a strange story:\\n\\n&gt;I know a guy ...</td>\n",
       "    </tr>\n",
       "    <tr>\n",
       "      <th>2476</th>\n",
       "      <td>0</td>\n",
       "      <td>\\n\\n[Paul Moore]\\n\\n&gt;    but let's walk before...</td>\n",
       "    </tr>\n",
       "    <tr>\n",
       "      <th>2477</th>\n",
       "      <td>0</td>\n",
       "      <td>On Mon, Nov 25, 2002 at 06:54:49PM +0000, Phil...</td>\n",
       "    </tr>\n",
       "    <tr>\n",
       "      <th>2478</th>\n",
       "      <td>0</td>\n",
       "      <td>\\n\\nI don't know how one can expect better and...</td>\n",
       "    </tr>\n",
       "    <tr>\n",
       "      <th>2479</th>\n",
       "      <td>0</td>\n",
       "      <td>No, you need to learn how declarations work in...</td>\n",
       "    </tr>\n",
       "    <tr>\n",
       "      <th>2480</th>\n",
       "      <td>0</td>\n",
       "      <td>\\n\\n    Richie&gt; As I understand it, post-1.8x ...</td>\n",
       "    </tr>\n",
       "    <tr>\n",
       "      <th>2481</th>\n",
       "      <td>0</td>\n",
       "      <td>\\n\\n    Paul&gt; I suspect the best answer is to ...</td>\n",
       "    </tr>\n",
       "    <tr>\n",
       "      <th>2482</th>\n",
       "      <td>0</td>\n",
       "      <td>The Times\\n\\n\\n\\n \\n\\n December 04, 2002 \\n\\n ...</td>\n",
       "    </tr>\n",
       "    <tr>\n",
       "      <th>2483</th>\n",
       "      <td>0</td>\n",
       "      <td>I have to say I was surprised about Jacko dang...</td>\n",
       "    </tr>\n",
       "    <tr>\n",
       "      <th>2484</th>\n",
       "      <td>0</td>\n",
       "      <td>Now then I recently read a novel about exactly...</td>\n",
       "    </tr>\n",
       "    <tr>\n",
       "      <th>2485</th>\n",
       "      <td>0</td>\n",
       "      <td>What the hell is it with these mini remote con...</td>\n",
       "    </tr>\n",
       "    <tr>\n",
       "      <th>2486</th>\n",
       "      <td>0</td>\n",
       "      <td>here, for your enjoyment, is a little somethin...</td>\n",
       "    </tr>\n",
       "    <tr>\n",
       "      <th>2487</th>\n",
       "      <td>0</td>\n",
       "      <td>Sean O'Donnell wrote:\\n\\n&gt; Doesnt answer your ...</td>\n",
       "    </tr>\n",
       "    <tr>\n",
       "      <th>2488</th>\n",
       "      <td>0</td>\n",
       "      <td>Joe McNally writes:\\n\\n\\n\\n&gt; What the hell is ...</td>\n",
       "    </tr>\n",
       "    <tr>\n",
       "      <th>2489</th>\n",
       "      <td>0</td>\n",
       "      <td>http://news.bbc.co.uk/1/hi/world/europe/254182...</td>\n",
       "    </tr>\n",
       "    <tr>\n",
       "      <th>2490</th>\n",
       "      <td>0</td>\n",
       "      <td>Hi all.\\n\\nDoes anyone know how to set up dual...</td>\n",
       "    </tr>\n",
       "    <tr>\n",
       "      <th>2491</th>\n",
       "      <td>0</td>\n",
       "      <td>Carlos Luna wrote:\\n\\n\\n\\n&gt;Hi all.\\n\\n&gt;Does an...</td>\n",
       "    </tr>\n",
       "    <tr>\n",
       "      <th>2492</th>\n",
       "      <td>0</td>\n",
       "      <td>Hi all\\n\\n\\n\\n\\n\\nI have a prob when trying to...</td>\n",
       "    </tr>\n",
       "    <tr>\n",
       "      <th>2493</th>\n",
       "      <td>0</td>\n",
       "      <td>Tim Chapman writes:\\n\\n\\n\\n&gt; http://news.bbc.c...</td>\n",
       "    </tr>\n",
       "    <tr>\n",
       "      <th>2494</th>\n",
       "      <td>0</td>\n",
       "      <td>&gt; I had the same problem when installing Win o...</td>\n",
       "    </tr>\n",
       "    <tr>\n",
       "      <th>2495</th>\n",
       "      <td>0</td>\n",
       "      <td>Man killed 'trying to surf' on Tube train \\n\\n...</td>\n",
       "    </tr>\n",
       "    <tr>\n",
       "      <th>2496</th>\n",
       "      <td>0</td>\n",
       "      <td>Hi Gianni,\\n\\n\\n\\nA very good resource for thi...</td>\n",
       "    </tr>\n",
       "    <tr>\n",
       "      <th>2497</th>\n",
       "      <td>0</td>\n",
       "      <td>Gianni Ponzi wrote:\\n\\n&gt; I have a prob when tr...</td>\n",
       "    </tr>\n",
       "    <tr>\n",
       "      <th>2498</th>\n",
       "      <td>0</td>\n",
       "      <td>Neale Pickett &lt;neale@woozle.org&gt; writes:\\n\\n\\n...</td>\n",
       "    </tr>\n",
       "    <tr>\n",
       "      <th>2499</th>\n",
       "      <td>0</td>\n",
       "      <td>\\n\\nHi,\\n\\n\\n\\nI think you need to give us a l...</td>\n",
       "    </tr>\n",
       "  </tbody>\n",
       "</table>\n",
       "<p>3000 rows × 2 columns</p>\n",
       "</div>"
      ],
      "text/plain": [
       "      Category                                              Email\n",
       "0            1  <!DOCTYPE HTML PUBLIC \"-//W3C//DTD HTML 4.0 Tr...\n",
       "1            1  1) Fight The Risk of Cancer!\\n\\nhttp://www.adc...\n",
       "2            1  ##############################################...\n",
       "3            1  I thought you might like these:\\n\\n1) Slim Dow...\n",
       "4            1  A POWERHOUSE GIFTING PROGRAM You Don't Want To...\n",
       "5            1  Help wanted.  We are a 14 year old fortune 500...\n",
       "6            1  <html>\\n\\n<head>\\n\\n<title>ReliaQuote - Save U...\n",
       "7            1  TIRED OF THE BULL OUT THERE?\\n\\nWant To Stop L...\n",
       "8            1  Dear ricardo1 ,\\n\\n\\n\\n<html>\\n\\n<body>\\n\\n<ce...\n",
       "9            1  Cellular Phone Accessories All At Below Wholes...\n",
       "10           1  <table width=\"600\" border=\"20\" align=\"center\" ...\n",
       "11           1  1) Fight The Risk of Cancer!\\n\\nhttp://www.adc...\n",
       "12           1  <HTML><HEAD><TITLE>FREE Motorola Cell Phone wi...\n",
       "13           1  <HTML><HEAD><TITLE>Lowest Rate Services</TITLE...\n",
       "14           1  \\n\\n\\n\\nWant to watch Sporting Events?--Movies...\n",
       "15           1  Help wanted.  We are a 14 year old fortune 500...\n",
       "16           1  DEAR FRIEND,I AM MRS.  SESE-SEKO WIDOW OF LATE...\n",
       "17           1  Lowest rates available for term life insurance...\n",
       "18           1  1) Fight The Risk of Cancer!\\n\\nhttp://www.adc...\n",
       "19           1  CENTRAL BANK OF NIGERIA\\n\\nFOREIGN REMITTANCE ...\n",
       "20           1  --===_SecAtt_000_1fheucnqggtggp\\n\\nContent-Typ...\n",
       "21           1  ------=_NextPart_000_00B2_83B03D1E.C6530E24\\n\\...\n",
       "22           1  This is a multi-part message in MIME format.\\n...\n",
       "23           1  <HTML><HEAD>\\n\\n<META http-equiv=3DContent-Typ...\n",
       "24           1  DEAR FRIEND,I AM MRS.  SESE-SEKO WIDOW OF LATE...\n",
       "25           1  1) Fight The Risk of Cancer!\\n\\nhttp://www.adc...\n",
       "26           1  <HTML><HEAD><TITLE>MILFhunter</TITLE>\\n\\n<META...\n",
       "27           1  <html>\\n\\n<head>\\n\\n</head>\\n\\n<body>\\n\\n\\n\\n<...\n",
       "28           1  <html>\\n\\n\\n\\n<head>\\n\\n<meta http-equiv=3D\"Co...\n",
       "29           1  Suppliers of Computers, Printers, etc. & Consu...\n",
       "...        ...                                                ...\n",
       "2470         0  This is possible, however using SA as a block ...\n",
       "2471         0  \\n\\n--- Martin Adamson <martin@srv0.ems.ed.ac....\n",
       "2472         0  ----- Original Message -----\\n\\nFrom: \"Tim Cha...\n",
       "2473         0  \\n\\n> Mr Tim Chapman, freelance gentleman of l...\n",
       "2474         0  Smith, Graham - Computing Technician wrote:\\n\\...\n",
       "2475         0  Geege wrote a strange story:\\n\\n>I know a guy ...\n",
       "2476         0  \\n\\n[Paul Moore]\\n\\n>    but let's walk before...\n",
       "2477         0  On Mon, Nov 25, 2002 at 06:54:49PM +0000, Phil...\n",
       "2478         0  \\n\\nI don't know how one can expect better and...\n",
       "2479         0  No, you need to learn how declarations work in...\n",
       "2480         0  \\n\\n    Richie> As I understand it, post-1.8x ...\n",
       "2481         0  \\n\\n    Paul> I suspect the best answer is to ...\n",
       "2482         0  The Times\\n\\n\\n\\n \\n\\n December 04, 2002 \\n\\n ...\n",
       "2483         0  I have to say I was surprised about Jacko dang...\n",
       "2484         0  Now then I recently read a novel about exactly...\n",
       "2485         0  What the hell is it with these mini remote con...\n",
       "2486         0  here, for your enjoyment, is a little somethin...\n",
       "2487         0  Sean O'Donnell wrote:\\n\\n> Doesnt answer your ...\n",
       "2488         0  Joe McNally writes:\\n\\n\\n\\n> What the hell is ...\n",
       "2489         0  http://news.bbc.co.uk/1/hi/world/europe/254182...\n",
       "2490         0  Hi all.\\n\\nDoes anyone know how to set up dual...\n",
       "2491         0  Carlos Luna wrote:\\n\\n\\n\\n>Hi all.\\n\\n>Does an...\n",
       "2492         0  Hi all\\n\\n\\n\\n\\n\\nI have a prob when trying to...\n",
       "2493         0  Tim Chapman writes:\\n\\n\\n\\n> http://news.bbc.c...\n",
       "2494         0  > I had the same problem when installing Win o...\n",
       "2495         0  Man killed 'trying to surf' on Tube train \\n\\n...\n",
       "2496         0  Hi Gianni,\\n\\n\\n\\nA very good resource for thi...\n",
       "2497         0  Gianni Ponzi wrote:\\n\\n> I have a prob when tr...\n",
       "2498         0  Neale Pickett <neale@woozle.org> writes:\\n\\n\\n...\n",
       "2499         0  \\n\\nHi,\\n\\n\\n\\nI think you need to give us a l...\n",
       "\n",
       "[3000 rows x 2 columns]"
      ]
     },
     "execution_count": 19,
     "metadata": {},
     "output_type": "execute_result"
    }
   ],
   "source": [
    "from sklearn.preprocessing import LabelEncoder\n",
    "le = LabelEncoder()\n",
    "data['Category'] = le.fit_transform(data['Category'])\n",
    "data"
   ]
  },
  {
   "cell_type": "code",
   "execution_count": 25,
   "metadata": {},
   "outputs": [
    {
     "data": {
      "text/plain": [
       "(30,)"
      ]
     },
     "execution_count": 25,
     "metadata": {},
     "output_type": "execute_result"
    }
   ],
   "source": [
    "vec = CountVectorizer()\n",
    "counts = vec.fit_transform(data['Email'].values)   #tokenises mail and counts the frequency of words in each email\n",
    "\n",
    "classifier = MultinomialNB()\n",
    "targets = data['Category'].values\n",
    "classifier.fit(counts, targets)\n",
    "\n",
    "from sklearn.model_selection import train_test_split\n",
    "X_train, X_test, y_train, y_test = train_test_split(data['Email'], data['Category'], test_size = 1/100,random_state=0)\n",
    "coun=vec.transform(X_test)\n",
    "y_pred=classifier.predict(coun)\n",
    "y_test.shape"
   ]
  },
  {
   "cell_type": "code",
   "execution_count": 26,
   "metadata": {},
   "outputs": [],
   "source": [
    "x=np.zeros(30)\n",
    "x[:]+=np.arange(30)"
   ]
  },
  {
   "cell_type": "code",
   "execution_count": 27,
   "metadata": {},
   "outputs": [],
   "source": [
    "x_trans=x.transpose()"
   ]
  },
  {
   "cell_type": "code",
   "execution_count": 28,
   "metadata": {},
   "outputs": [
    {
     "data": {
      "image/png": "[encoded data removed]",
      "text/plain": [
       "<Figure size 432x288 with 1 Axes>"
      ]
     },
     "metadata": {},
     "output_type": "display_data"
    }
   ],
   "source": [
    "plt.scatter(x_trans,y_test,color='red')  \n",
    "plt.axes()\n",
    "plt.xlabel('Email no.')\n",
    "plt.ylabel('Category')\n",
    "plt.title('Actual Values')\n",
    "plt.show()"
   ]
  },
  {
   "cell_type": "code",
   "execution_count": 29,
   "metadata": {},
   "outputs": [
    {
     "data": {
      "text/plain": [
       "Text(0.5, 1.0, 'Predicted Values')"
      ]
     },
     "execution_count": 29,
     "metadata": {},
     "output_type": "execute_result"
    },
    {
     "data": {
      "image/png": "[encoded data removed]",
      "text/plain": [
       "<Figure size 432x288 with 1 Axes>"
      ]
     },
     "metadata": {},
     "output_type": "display_data"
    }
   ],
   "source": [
    "plt.scatter(x_trans,y_pred,color='blue')\n",
    "plt.xlabel('Email no.')\n",
    "plt.ylabel('Category')\n",
    "plt.title('Predicted Values')"
   ]
  },
  {
   "cell_type": "code",
   "execution_count": null,
   "metadata": {},
   "outputs": [],
   "source": []
  }
 ],
 "metadata": {
  "kernelspec": {
   "display_name": "Python 3",
   "language": "python",
   "name": "python3"
  },
  "language_info": {
   "codemirror_mode": {
    "name": "ipython",
    "version": 3
   },
   "file_extension": ".py",
   "mimetype": "text/x-python",
   "name": "python",
   "nbconvert_exporter": "python",
   "pygments_lexer": "ipython3",
   "version": "3.6.5"
  }
 },
 "nbformat": 4,
 "nbformat_minor": 2
}
